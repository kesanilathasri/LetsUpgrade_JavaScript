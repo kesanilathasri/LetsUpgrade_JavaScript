{
  "nbformat": 4,
  "nbformat_minor": 0,
  "metadata": {
    "colab": {
      "name": "Untitled1.ipynb",
      "provenance": [],
      "collapsed_sections": [],
      "authorship_tag": "ABX9TyOxSL1dSHqWmrfCSCVKedsG",
      "include_colab_link": true
    },
    "kernelspec": {
      "name": "python3",
      "display_name": "Python 3"
    }
  },
  "cells": [
    {
      "cell_type": "markdown",
      "metadata": {
        "id": "view-in-github",
        "colab_type": "text"
      },
      "source": [
        "<a href=\"https://colab.research.google.com/github/kesanilathasri/LetsUpgrade_JavaScript/blob/master/Weekend_Code_Battle.ipynb\" target=\"_parent\"><img src=\"https://colab.research.google.com/assets/colab-badge.svg\" alt=\"Open In Colab\"/></a>"
      ]
    },
    {
      "cell_type": "code",
      "metadata": {
        "id": "CDZ6n4YtoSmo",
        "colab_type": "code",
        "colab": {}
      },
      "source": [
        "import time\n",
        "def countdown(T):\n",
        "    while T:\n",
        "        minutes, seconds = divmod(T, 60)\n",
        "        Timer = '{:02d}:{:02d}'.format(minutes, seconds)\n",
        "        print(Timer, end=\"\\r\")\n",
        "        time.sleep(1)\n",
        "        T -= 1\n",
        "    print('You were Deceived')\n",
        "T = input(\"Enter the time in seconds: \") \n",
        "countdown(int(T))"
      ],
      "execution_count": null,
      "outputs": []
    }
  ]
}